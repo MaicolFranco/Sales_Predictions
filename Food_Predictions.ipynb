{
  "nbformat": 4,
  "nbformat_minor": 0,
  "metadata": {
    "colab": {
      "provenance": [],
      "collapsed_sections": [],
      "authorship_tag": "ABX9TyM1L0zIQXA+6liztA3z78Sd",
      "include_colab_link": true
    },
    "kernelspec": {
      "name": "python3",
      "display_name": "Python 3"
    },
    "language_info": {
      "name": "python"
    }
  },
  "cells": [
    {
      "cell_type": "markdown",
      "metadata": {
        "id": "view-in-github",
        "colab_type": "text"
      },
      "source": [
        "<a href=\"https://colab.research.google.com/github/MaicolFranco/Sales_Predictions/blob/main/Food_Predictions.ipynb\" target=\"_parent\"><img src=\"https://colab.research.google.com/assets/colab-badge.svg\" alt=\"Open In Colab\"/></a>"
      ]
    },
    {
      "cell_type": "code",
      "execution_count": 1,
      "metadata": {
        "colab": {
          "base_uri": "https://localhost:8080/"
        },
        "id": "j22CeFKVEWCe",
        "outputId": "e09c4638-ea8f-4b6c-bbdd-37b1c648d644"
      },
      "outputs": [
        {
          "output_type": "stream",
          "name": "stdout",
          "text": [
            "Mounted at /content/drive\n"
          ]
        }
      ],
      "source": [
        "from google.colab import drive\n",
        "drive.mount('/content/drive')"
      ]
    },
    {
      "cell_type": "markdown",
      "source": [
        "# **Food Sales Prediction Project**\n",
        "\n",
        "The information use in this project corresponds to 2013 sales of **1559** products and was collected by data scientist at BigMart across 10 stores in different cities. Some features of each product have been defined. In order to help to the retailer to understand the product properties and the outlets that play a crucial role in the sales, **this project aims to predict the sales of food products in each outlet, it will try to understand the properties of products and outlets which play a key role in increasing sales.**\n",
        "\n",
        "![image.png](data:image/png;base64,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)"
      ],
      "metadata": {
        "id": "6NUPcIo3ofHH"
      }
    },
    {
      "cell_type": "markdown",
      "source": [
        "# **Importaciones Correspondientes**"
      ],
      "metadata": {
        "id": "flj_PE-Go5BC"
      }
    },
    {
      "cell_type": "code",
      "source": [
        "from sklearn.impute import SimpleImputer\n",
        "from sklearn.compose import make_column_selector, make_column_transformer\n",
        "from sklearn.preprocessing import StandardScaler, OneHotEncoder, OrdinalEncoder\n",
        "from sklearn.model_selection import train_test_split\n",
        "from sklearn.pipeline import make_pipeline\n",
        "import matplotlib.pyplot as plt\n",
        "import seaborn as sns\n",
        "import pandas as pd\n",
        "import numpy as np\n",
        "plt.style.use(\"seaborn\")"
      ],
      "metadata": {
        "id": "ErMDu3f5Ew4l"
      },
      "execution_count": 40,
      "outputs": []
    },
    {
      "cell_type": "markdown",
      "source": [
        "# **Cargo La Informacion**"
      ],
      "metadata": {
        "id": "fuwhGYbkpkML"
      }
    },
    {
      "cell_type": "code",
      "source": [
        "df = pd.read_csv(\"/content/sales_predictions.csv\")\n",
        "df.head()"
      ],
      "metadata": {
        "colab": {
          "base_uri": "https://localhost:8080/",
          "height": 357
        },
        "id": "ECT8VoorEpr3",
        "outputId": "d729998c-b4f1-4667-d872-13728f75ccea"
      },
      "execution_count": 3,
      "outputs": [
        {
          "output_type": "execute_result",
          "data": {
            "text/plain": [
              "  Item_Identifier  Item_Weight Item_Fat_Content  Item_Visibility  \\\n",
              "0           FDA15         9.30          Low Fat         0.016047   \n",
              "1           DRC01         5.92          Regular         0.019278   \n",
              "2           FDN15        17.50          Low Fat         0.016760   \n",
              "3           FDX07        19.20          Regular         0.000000   \n",
              "4           NCD19         8.93          Low Fat         0.000000   \n",
              "\n",
              "               Item_Type  Item_MRP Outlet_Identifier  \\\n",
              "0                  Dairy  249.8092            OUT049   \n",
              "1            Soft Drinks   48.2692            OUT018   \n",
              "2                   Meat  141.6180            OUT049   \n",
              "3  Fruits and Vegetables  182.0950            OUT010   \n",
              "4              Household   53.8614            OUT013   \n",
              "\n",
              "   Outlet_Establishment_Year Outlet_Size Outlet_Location_Type  \\\n",
              "0                       1999      Medium               Tier 1   \n",
              "1                       2009      Medium               Tier 3   \n",
              "2                       1999      Medium               Tier 1   \n",
              "3                       1998         NaN               Tier 3   \n",
              "4                       1987        High               Tier 3   \n",
              "\n",
              "         Outlet_Type  Item_Outlet_Sales  \n",
              "0  Supermarket Type1          3735.1380  \n",
              "1  Supermarket Type2           443.4228  \n",
              "2  Supermarket Type1          2097.2700  \n",
              "3      Grocery Store           732.3800  \n",
              "4  Supermarket Type1           994.7052  "
            ],
            "text/html": [
              "\n",
              "  <div id=\"df-4d5e0910-7c2e-438f-8dab-023fa0b19c77\">\n",
              "    <div class=\"colab-df-container\">\n",
              "      <div>\n",
              "<style scoped>\n",
              "    .dataframe tbody tr th:only-of-type {\n",
              "        vertical-align: middle;\n",
              "    }\n",
              "\n",
              "    .dataframe tbody tr th {\n",
              "        vertical-align: top;\n",
              "    }\n",
              "\n",
              "    .dataframe thead th {\n",
              "        text-align: right;\n",
              "    }\n",
              "</style>\n",
              "<table border=\"1\" class=\"dataframe\">\n",
              "  <thead>\n",
              "    <tr style=\"text-align: right;\">\n",
              "      <th></th>\n",
              "      <th>Item_Identifier</th>\n",
              "      <th>Item_Weight</th>\n",
              "      <th>Item_Fat_Content</th>\n",
              "      <th>Item_Visibility</th>\n",
              "      <th>Item_Type</th>\n",
              "      <th>Item_MRP</th>\n",
              "      <th>Outlet_Identifier</th>\n",
              "      <th>Outlet_Establishment_Year</th>\n",
              "      <th>Outlet_Size</th>\n",
              "      <th>Outlet_Location_Type</th>\n",
              "      <th>Outlet_Type</th>\n",
              "      <th>Item_Outlet_Sales</th>\n",
              "    </tr>\n",
              "  </thead>\n",
              "  <tbody>\n",
              "    <tr>\n",
              "      <th>0</th>\n",
              "      <td>FDA15</td>\n",
              "      <td>9.30</td>\n",
              "      <td>Low Fat</td>\n",
              "      <td>0.016047</td>\n",
              "      <td>Dairy</td>\n",
              "      <td>249.8092</td>\n",
              "      <td>OUT049</td>\n",
              "      <td>1999</td>\n",
              "      <td>Medium</td>\n",
              "      <td>Tier 1</td>\n",
              "      <td>Supermarket Type1</td>\n",
              "      <td>3735.1380</td>\n",
              "    </tr>\n",
              "    <tr>\n",
              "      <th>1</th>\n",
              "      <td>DRC01</td>\n",
              "      <td>5.92</td>\n",
              "      <td>Regular</td>\n",
              "      <td>0.019278</td>\n",
              "      <td>Soft Drinks</td>\n",
              "      <td>48.2692</td>\n",
              "      <td>OUT018</td>\n",
              "      <td>2009</td>\n",
              "      <td>Medium</td>\n",
              "      <td>Tier 3</td>\n",
              "      <td>Supermarket Type2</td>\n",
              "      <td>443.4228</td>\n",
              "    </tr>\n",
              "    <tr>\n",
              "      <th>2</th>\n",
              "      <td>FDN15</td>\n",
              "      <td>17.50</td>\n",
              "      <td>Low Fat</td>\n",
              "      <td>0.016760</td>\n",
              "      <td>Meat</td>\n",
              "      <td>141.6180</td>\n",
              "      <td>OUT049</td>\n",
              "      <td>1999</td>\n",
              "      <td>Medium</td>\n",
              "      <td>Tier 1</td>\n",
              "      <td>Supermarket Type1</td>\n",
              "      <td>2097.2700</td>\n",
              "    </tr>\n",
              "    <tr>\n",
              "      <th>3</th>\n",
              "      <td>FDX07</td>\n",
              "      <td>19.20</td>\n",
              "      <td>Regular</td>\n",
              "      <td>0.000000</td>\n",
              "      <td>Fruits and Vegetables</td>\n",
              "      <td>182.0950</td>\n",
              "      <td>OUT010</td>\n",
              "      <td>1998</td>\n",
              "      <td>NaN</td>\n",
              "      <td>Tier 3</td>\n",
              "      <td>Grocery Store</td>\n",
              "      <td>732.3800</td>\n",
              "    </tr>\n",
              "    <tr>\n",
              "      <th>4</th>\n",
              "      <td>NCD19</td>\n",
              "      <td>8.93</td>\n",
              "      <td>Low Fat</td>\n",
              "      <td>0.000000</td>\n",
              "      <td>Household</td>\n",
              "      <td>53.8614</td>\n",
              "      <td>OUT013</td>\n",
              "      <td>1987</td>\n",
              "      <td>High</td>\n",
              "      <td>Tier 3</td>\n",
              "      <td>Supermarket Type1</td>\n",
              "      <td>994.7052</td>\n",
              "    </tr>\n",
              "  </tbody>\n",
              "</table>\n",
              "</div>\n",
              "      <button class=\"colab-df-convert\" onclick=\"convertToInteractive('df-4d5e0910-7c2e-438f-8dab-023fa0b19c77')\"\n",
              "              title=\"Convert this dataframe to an interactive table.\"\n",
              "              style=\"display:none;\">\n",
              "        \n",
              "  <svg xmlns=\"http://www.w3.org/2000/svg\" height=\"24px\"viewBox=\"0 0 24 24\"\n",
              "       width=\"24px\">\n",
              "    <path d=\"M0 0h24v24H0V0z\" fill=\"none\"/>\n",
              "    <path d=\"M18.56 5.44l.94 2.06.94-2.06 2.06-.94-2.06-.94-.94-2.06-.94 2.06-2.06.94zm-11 1L8.5 8.5l.94-2.06 2.06-.94-2.06-.94L8.5 2.5l-.94 2.06-2.06.94zm10 10l.94 2.06.94-2.06 2.06-.94-2.06-.94-.94-2.06-.94 2.06-2.06.94z\"/><path d=\"M17.41 7.96l-1.37-1.37c-.4-.4-.92-.59-1.43-.59-.52 0-1.04.2-1.43.59L10.3 9.45l-7.72 7.72c-.78.78-.78 2.05 0 2.83L4 21.41c.39.39.9.59 1.41.59.51 0 1.02-.2 1.41-.59l7.78-7.78 2.81-2.81c.8-.78.8-2.07 0-2.86zM5.41 20L4 18.59l7.72-7.72 1.47 1.35L5.41 20z\"/>\n",
              "  </svg>\n",
              "      </button>\n",
              "      \n",
              "  <style>\n",
              "    .colab-df-container {\n",
              "      display:flex;\n",
              "      flex-wrap:wrap;\n",
              "      gap: 12px;\n",
              "    }\n",
              "\n",
              "    .colab-df-convert {\n",
              "      background-color: #E8F0FE;\n",
              "      border: none;\n",
              "      border-radius: 50%;\n",
              "      cursor: pointer;\n",
              "      display: none;\n",
              "      fill: #1967D2;\n",
              "      height: 32px;\n",
              "      padding: 0 0 0 0;\n",
              "      width: 32px;\n",
              "    }\n",
              "\n",
              "    .colab-df-convert:hover {\n",
              "      background-color: #E2EBFA;\n",
              "      box-shadow: 0px 1px 2px rgba(60, 64, 67, 0.3), 0px 1px 3px 1px rgba(60, 64, 67, 0.15);\n",
              "      fill: #174EA6;\n",
              "    }\n",
              "\n",
              "    [theme=dark] .colab-df-convert {\n",
              "      background-color: #3B4455;\n",
              "      fill: #D2E3FC;\n",
              "    }\n",
              "\n",
              "    [theme=dark] .colab-df-convert:hover {\n",
              "      background-color: #434B5C;\n",
              "      box-shadow: 0px 1px 3px 1px rgba(0, 0, 0, 0.15);\n",
              "      filter: drop-shadow(0px 1px 2px rgba(0, 0, 0, 0.3));\n",
              "      fill: #FFFFFF;\n",
              "    }\n",
              "  </style>\n",
              "\n",
              "      <script>\n",
              "        const buttonEl =\n",
              "          document.querySelector('#df-4d5e0910-7c2e-438f-8dab-023fa0b19c77 button.colab-df-convert');\n",
              "        buttonEl.style.display =\n",
              "          google.colab.kernel.accessAllowed ? 'block' : 'none';\n",
              "\n",
              "        async function convertToInteractive(key) {\n",
              "          const element = document.querySelector('#df-4d5e0910-7c2e-438f-8dab-023fa0b19c77');\n",
              "          const dataTable =\n",
              "            await google.colab.kernel.invokeFunction('convertToInteractive',\n",
              "                                                     [key], {});\n",
              "          if (!dataTable) return;\n",
              "\n",
              "          const docLinkHtml = 'Like what you see? Visit the ' +\n",
              "            '<a target=\"_blank\" href=https://colab.research.google.com/notebooks/data_table.ipynb>data table notebook</a>'\n",
              "            + ' to learn more about interactive tables.';\n",
              "          element.innerHTML = '';\n",
              "          dataTable['output_type'] = 'display_data';\n",
              "          await google.colab.output.renderOutput(dataTable, element);\n",
              "          const docLink = document.createElement('div');\n",
              "          docLink.innerHTML = docLinkHtml;\n",
              "          element.appendChild(docLink);\n",
              "        }\n",
              "      </script>\n",
              "    </div>\n",
              "  </div>\n",
              "  "
            ]
          },
          "metadata": {},
          "execution_count": 3
        }
      ]
    },
    {
      "cell_type": "code",
      "source": [
        "df.info() "
      ],
      "metadata": {
        "colab": {
          "base_uri": "https://localhost:8080/"
        },
        "id": "HKTKkXMIFd5s",
        "outputId": "eb6ed5c8-00c5-4e4c-c266-7a5ab9201d16"
      },
      "execution_count": 4,
      "outputs": [
        {
          "output_type": "stream",
          "name": "stdout",
          "text": [
            "<class 'pandas.core.frame.DataFrame'>\n",
            "RangeIndex: 8523 entries, 0 to 8522\n",
            "Data columns (total 12 columns):\n",
            " #   Column                     Non-Null Count  Dtype  \n",
            "---  ------                     --------------  -----  \n",
            " 0   Item_Identifier            8523 non-null   object \n",
            " 1   Item_Weight                7060 non-null   float64\n",
            " 2   Item_Fat_Content           8523 non-null   object \n",
            " 3   Item_Visibility            8523 non-null   float64\n",
            " 4   Item_Type                  8523 non-null   object \n",
            " 5   Item_MRP                   8523 non-null   float64\n",
            " 6   Outlet_Identifier          8523 non-null   object \n",
            " 7   Outlet_Establishment_Year  8523 non-null   int64  \n",
            " 8   Outlet_Size                6113 non-null   object \n",
            " 9   Outlet_Location_Type       8523 non-null   object \n",
            " 10  Outlet_Type                8523 non-null   object \n",
            " 11  Item_Outlet_Sales          8523 non-null   float64\n",
            "dtypes: float64(4), int64(1), object(7)\n",
            "memory usage: 799.2+ KB\n"
          ]
        }
      ]
    },
    {
      "cell_type": "code",
      "source": [
        "df.isna().sum()"
      ],
      "metadata": {
        "id": "GSTRGNhaqlB6",
        "outputId": "eccc519e-2b61-471c-d6ce-fdd78c75d67d",
        "colab": {
          "base_uri": "https://localhost:8080/"
        }
      },
      "execution_count": 41,
      "outputs": [
        {
          "output_type": "execute_result",
          "data": {
            "text/plain": [
              "Item_Identifier         0\n",
              "Item_Fat_Content        0\n",
              "Item_Visibility         0\n",
              "Item_Type               0\n",
              "Item_MRP                0\n",
              "Outlet_Identifier       0\n",
              "Outlet_Size             0\n",
              "Outlet_Location_Type    0\n",
              "Outlet_Type             0\n",
              "Item_Outlet_Sales       0\n",
              "dtype: int64"
            ]
          },
          "metadata": {},
          "execution_count": 41
        }
      ]
    },
    {
      "cell_type": "markdown",
      "source": [
        "Observaciones:\n",
        "\n",
        "\n",
        "Faltan datos en las columnas: Item_Weight: 1463 (valores faltantes) y Outlet_Size: 2410 valores faltantes."
      ],
      "metadata": {
        "id": "OmAQaognqXib"
      }
    },
    {
      "cell_type": "code",
      "source": [
        "df.shape"
      ],
      "metadata": {
        "colab": {
          "base_uri": "https://localhost:8080/"
        },
        "id": "WNCmKnreFfne",
        "outputId": "284ac48b-d94c-4529-bcf3-9945cb396740"
      },
      "execution_count": 5,
      "outputs": [
        {
          "output_type": "execute_result",
          "data": {
            "text/plain": [
              "(8523, 12)"
            ]
          },
          "metadata": {},
          "execution_count": 5
        }
      ]
    },
    {
      "cell_type": "markdown",
      "source": [
        "# **Limpieza De datos**\n",
        "\n",
        "comprobemos si hay información duplicada y si es asi eliminemosla."
      ],
      "metadata": {
        "id": "rYwc5uJ4rp9Z"
      }
    },
    {
      "cell_type": "code",
      "source": [
        "df.duplicated().sum()"
      ],
      "metadata": {
        "colab": {
          "base_uri": "https://localhost:8080/"
        },
        "id": "GDU7DCeHFlEN",
        "outputId": "97e8759c-10d3-4185-9bee-01d9e1592a7c"
      },
      "execution_count": 6,
      "outputs": [
        {
          "output_type": "execute_result",
          "data": {
            "text/plain": [
              "0"
            ]
          },
          "metadata": {},
          "execution_count": 6
        }
      ]
    },
    {
      "cell_type": "markdown",
      "source": [
        "# **Observaciones En Columnas Irrelevantes**\n",
        "\n",
        "El peso del artículo (Item_Weight)se puede categorizar como una característica irrelevante en la predicción de ventas, asi mismo la columna (Outlet_Establishment_Year) es el año en que se estableció la tienda, por lo tanto estas dos columnas la eliminaremos."
      ],
      "metadata": {
        "id": "RXDUvA6MsjOD"
      }
    },
    {
      "cell_type": "code",
      "source": [
        "df.drop(columns = [\"Item_Weight\", \"Outlet_Establishment_Year\"], inplace=True)\n",
        "df.head()"
      ],
      "metadata": {
        "colab": {
          "base_uri": "https://localhost:8080/",
          "height": 337
        },
        "id": "8SnrdKl-G2if",
        "outputId": "8000bc37-4290-420c-c515-a55400613742"
      },
      "execution_count": 9,
      "outputs": [
        {
          "output_type": "execute_result",
          "data": {
            "text/plain": [
              "  Item_Identifier Item_Fat_Content  Item_Visibility              Item_Type  \\\n",
              "0           FDA15          Low Fat         0.016047                  Dairy   \n",
              "1           DRC01          Regular         0.019278            Soft Drinks   \n",
              "2           FDN15          Low Fat         0.016760                   Meat   \n",
              "3           FDX07          Regular         0.000000  Fruits and Vegetables   \n",
              "4           NCD19          Low Fat         0.000000              Household   \n",
              "\n",
              "   Item_MRP Outlet_Identifier Outlet_Size Outlet_Location_Type  \\\n",
              "0  249.8092            OUT049      Medium               Tier 1   \n",
              "1   48.2692            OUT018      Medium               Tier 3   \n",
              "2  141.6180            OUT049      Medium               Tier 1   \n",
              "3  182.0950            OUT010         NaN               Tier 3   \n",
              "4   53.8614            OUT013        High               Tier 3   \n",
              "\n",
              "         Outlet_Type  Item_Outlet_Sales  \n",
              "0  Supermarket Type1          3735.1380  \n",
              "1  Supermarket Type2           443.4228  \n",
              "2  Supermarket Type1          2097.2700  \n",
              "3      Grocery Store           732.3800  \n",
              "4  Supermarket Type1           994.7052  "
            ],
            "text/html": [
              "\n",
              "  <div id=\"df-d6a9a4b8-05ad-48e4-a9c7-b826afa505ed\">\n",
              "    <div class=\"colab-df-container\">\n",
              "      <div>\n",
              "<style scoped>\n",
              "    .dataframe tbody tr th:only-of-type {\n",
              "        vertical-align: middle;\n",
              "    }\n",
              "\n",
              "    .dataframe tbody tr th {\n",
              "        vertical-align: top;\n",
              "    }\n",
              "\n",
              "    .dataframe thead th {\n",
              "        text-align: right;\n",
              "    }\n",
              "</style>\n",
              "<table border=\"1\" class=\"dataframe\">\n",
              "  <thead>\n",
              "    <tr style=\"text-align: right;\">\n",
              "      <th></th>\n",
              "      <th>Item_Identifier</th>\n",
              "      <th>Item_Fat_Content</th>\n",
              "      <th>Item_Visibility</th>\n",
              "      <th>Item_Type</th>\n",
              "      <th>Item_MRP</th>\n",
              "      <th>Outlet_Identifier</th>\n",
              "      <th>Outlet_Size</th>\n",
              "      <th>Outlet_Location_Type</th>\n",
              "      <th>Outlet_Type</th>\n",
              "      <th>Item_Outlet_Sales</th>\n",
              "    </tr>\n",
              "  </thead>\n",
              "  <tbody>\n",
              "    <tr>\n",
              "      <th>0</th>\n",
              "      <td>FDA15</td>\n",
              "      <td>Low Fat</td>\n",
              "      <td>0.016047</td>\n",
              "      <td>Dairy</td>\n",
              "      <td>249.8092</td>\n",
              "      <td>OUT049</td>\n",
              "      <td>Medium</td>\n",
              "      <td>Tier 1</td>\n",
              "      <td>Supermarket Type1</td>\n",
              "      <td>3735.1380</td>\n",
              "    </tr>\n",
              "    <tr>\n",
              "      <th>1</th>\n",
              "      <td>DRC01</td>\n",
              "      <td>Regular</td>\n",
              "      <td>0.019278</td>\n",
              "      <td>Soft Drinks</td>\n",
              "      <td>48.2692</td>\n",
              "      <td>OUT018</td>\n",
              "      <td>Medium</td>\n",
              "      <td>Tier 3</td>\n",
              "      <td>Supermarket Type2</td>\n",
              "      <td>443.4228</td>\n",
              "    </tr>\n",
              "    <tr>\n",
              "      <th>2</th>\n",
              "      <td>FDN15</td>\n",
              "      <td>Low Fat</td>\n",
              "      <td>0.016760</td>\n",
              "      <td>Meat</td>\n",
              "      <td>141.6180</td>\n",
              "      <td>OUT049</td>\n",
              "      <td>Medium</td>\n",
              "      <td>Tier 1</td>\n",
              "      <td>Supermarket Type1</td>\n",
              "      <td>2097.2700</td>\n",
              "    </tr>\n",
              "    <tr>\n",
              "      <th>3</th>\n",
              "      <td>FDX07</td>\n",
              "      <td>Regular</td>\n",
              "      <td>0.000000</td>\n",
              "      <td>Fruits and Vegetables</td>\n",
              "      <td>182.0950</td>\n",
              "      <td>OUT010</td>\n",
              "      <td>NaN</td>\n",
              "      <td>Tier 3</td>\n",
              "      <td>Grocery Store</td>\n",
              "      <td>732.3800</td>\n",
              "    </tr>\n",
              "    <tr>\n",
              "      <th>4</th>\n",
              "      <td>NCD19</td>\n",
              "      <td>Low Fat</td>\n",
              "      <td>0.000000</td>\n",
              "      <td>Household</td>\n",
              "      <td>53.8614</td>\n",
              "      <td>OUT013</td>\n",
              "      <td>High</td>\n",
              "      <td>Tier 3</td>\n",
              "      <td>Supermarket Type1</td>\n",
              "      <td>994.7052</td>\n",
              "    </tr>\n",
              "  </tbody>\n",
              "</table>\n",
              "</div>\n",
              "      <button class=\"colab-df-convert\" onclick=\"convertToInteractive('df-d6a9a4b8-05ad-48e4-a9c7-b826afa505ed')\"\n",
              "              title=\"Convert this dataframe to an interactive table.\"\n",
              "              style=\"display:none;\">\n",
              "        \n",
              "  <svg xmlns=\"http://www.w3.org/2000/svg\" height=\"24px\"viewBox=\"0 0 24 24\"\n",
              "       width=\"24px\">\n",
              "    <path d=\"M0 0h24v24H0V0z\" fill=\"none\"/>\n",
              "    <path d=\"M18.56 5.44l.94 2.06.94-2.06 2.06-.94-2.06-.94-.94-2.06-.94 2.06-2.06.94zm-11 1L8.5 8.5l.94-2.06 2.06-.94-2.06-.94L8.5 2.5l-.94 2.06-2.06.94zm10 10l.94 2.06.94-2.06 2.06-.94-2.06-.94-.94-2.06-.94 2.06-2.06.94z\"/><path d=\"M17.41 7.96l-1.37-1.37c-.4-.4-.92-.59-1.43-.59-.52 0-1.04.2-1.43.59L10.3 9.45l-7.72 7.72c-.78.78-.78 2.05 0 2.83L4 21.41c.39.39.9.59 1.41.59.51 0 1.02-.2 1.41-.59l7.78-7.78 2.81-2.81c.8-.78.8-2.07 0-2.86zM5.41 20L4 18.59l7.72-7.72 1.47 1.35L5.41 20z\"/>\n",
              "  </svg>\n",
              "      </button>\n",
              "      \n",
              "  <style>\n",
              "    .colab-df-container {\n",
              "      display:flex;\n",
              "      flex-wrap:wrap;\n",
              "      gap: 12px;\n",
              "    }\n",
              "\n",
              "    .colab-df-convert {\n",
              "      background-color: #E8F0FE;\n",
              "      border: none;\n",
              "      border-radius: 50%;\n",
              "      cursor: pointer;\n",
              "      display: none;\n",
              "      fill: #1967D2;\n",
              "      height: 32px;\n",
              "      padding: 0 0 0 0;\n",
              "      width: 32px;\n",
              "    }\n",
              "\n",
              "    .colab-df-convert:hover {\n",
              "      background-color: #E2EBFA;\n",
              "      box-shadow: 0px 1px 2px rgba(60, 64, 67, 0.3), 0px 1px 3px 1px rgba(60, 64, 67, 0.15);\n",
              "      fill: #174EA6;\n",
              "    }\n",
              "\n",
              "    [theme=dark] .colab-df-convert {\n",
              "      background-color: #3B4455;\n",
              "      fill: #D2E3FC;\n",
              "    }\n",
              "\n",
              "    [theme=dark] .colab-df-convert:hover {\n",
              "      background-color: #434B5C;\n",
              "      box-shadow: 0px 1px 3px 1px rgba(0, 0, 0, 0.15);\n",
              "      filter: drop-shadow(0px 1px 2px rgba(0, 0, 0, 0.3));\n",
              "      fill: #FFFFFF;\n",
              "    }\n",
              "  </style>\n",
              "\n",
              "      <script>\n",
              "        const buttonEl =\n",
              "          document.querySelector('#df-d6a9a4b8-05ad-48e4-a9c7-b826afa505ed button.colab-df-convert');\n",
              "        buttonEl.style.display =\n",
              "          google.colab.kernel.accessAllowed ? 'block' : 'none';\n",
              "\n",
              "        async function convertToInteractive(key) {\n",
              "          const element = document.querySelector('#df-d6a9a4b8-05ad-48e4-a9c7-b826afa505ed');\n",
              "          const dataTable =\n",
              "            await google.colab.kernel.invokeFunction('convertToInteractive',\n",
              "                                                     [key], {});\n",
              "          if (!dataTable) return;\n",
              "\n",
              "          const docLinkHtml = 'Like what you see? Visit the ' +\n",
              "            '<a target=\"_blank\" href=https://colab.research.google.com/notebooks/data_table.ipynb>data table notebook</a>'\n",
              "            + ' to learn more about interactive tables.';\n",
              "          element.innerHTML = '';\n",
              "          dataTable['output_type'] = 'display_data';\n",
              "          await google.colab.output.renderOutput(dataTable, element);\n",
              "          const docLink = document.createElement('div');\n",
              "          docLink.innerHTML = docLinkHtml;\n",
              "          element.appendChild(docLink);\n",
              "        }\n",
              "      </script>\n",
              "    </div>\n",
              "  </div>\n",
              "  "
            ]
          },
          "metadata": {},
          "execution_count": 9
        }
      ]
    },
    {
      "cell_type": "markdown",
      "source": [
        "# **Tipo De Informacion En Cada Columna**"
      ],
      "metadata": {
        "id": "21pykMyvtX0o"
      }
    },
    {
      "cell_type": "code",
      "source": [
        "df.dtypes"
      ],
      "metadata": {
        "colab": {
          "base_uri": "https://localhost:8080/"
        },
        "id": "2qaAOCpaHAvS",
        "outputId": "896a2e4c-913c-4e5c-ebf5-658183dc0522"
      },
      "execution_count": 10,
      "outputs": [
        {
          "output_type": "execute_result",
          "data": {
            "text/plain": [
              "Item_Identifier          object\n",
              "Item_Fat_Content         object\n",
              "Item_Visibility         float64\n",
              "Item_Type                object\n",
              "Item_MRP                float64\n",
              "Outlet_Identifier        object\n",
              "Outlet_Size              object\n",
              "Outlet_Location_Type     object\n",
              "Outlet_Type              object\n",
              "Item_Outlet_Sales       float64\n",
              "dtype: object"
            ]
          },
          "metadata": {},
          "execution_count": 10
        }
      ]
    },
    {
      "cell_type": "code",
      "source": [
        "numericos = []\n",
        "no_numericos = []\n",
        "def validar_cols(col):\n",
        "    try:\n",
        "        col_max = df[col].max()\n",
        "        col_min = df[col].min() \n",
        "        if col_min < 0:\n",
        "            print(f\"In the col**** {col}*** there is at leat a value under 0 ******* check!\")\n",
        "            numericos.append({col +\"_min\": col_min})\n",
        "        if col_max > 1:\n",
        "            print(f\"In the col **** {col} **** there is at leat a value over 1 it makes sense? *********** check!\")\n",
        "            numericos.append({col + \"_max\": col_max})\n",
        "        else:\n",
        "            print(f\"the next numerical col seem not to present incosistencies: {col}\")\n",
        "    except:\n",
        "        no_numericos.append(col)\n",
        "        print(f\"---------column {col} not checked - not numerical col ----------------\")"
      ],
      "metadata": {
        "id": "eQpzre_MHQ2f"
      },
      "execution_count": 11,
      "outputs": []
    },
    {
      "cell_type": "code",
      "source": [
        "for colum in list(df.columns):\n",
        "    validar_cols(colum)\n",
        "print(\"\\n\",\"Check this values:\", numericos)\n",
        "print(\"\\n\", \"Non mumeric columns to check: \",no_numericos)"
      ],
      "metadata": {
        "colab": {
          "base_uri": "https://localhost:8080/"
        },
        "id": "OGRH9wEHHUqj",
        "outputId": "3f7090ec-2b8c-460a-db3e-72bfba0d7775"
      },
      "execution_count": 12,
      "outputs": [
        {
          "output_type": "stream",
          "name": "stdout",
          "text": [
            "---------column Item_Identifier not checked - not numerical col ----------------\n",
            "---------column Item_Fat_Content not checked - not numerical col ----------------\n",
            "the next numerical col seem not to present incosistencies: Item_Visibility\n",
            "---------column Item_Type not checked - not numerical col ----------------\n",
            "In the col **** Item_MRP **** there is at leat a value over 1 it makes sense? *********** check!\n",
            "---------column Outlet_Identifier not checked - not numerical col ----------------\n",
            "---------column Outlet_Size not checked - not numerical col ----------------\n",
            "---------column Outlet_Location_Type not checked - not numerical col ----------------\n",
            "---------column Outlet_Type not checked - not numerical col ----------------\n",
            "In the col **** Item_Outlet_Sales **** there is at leat a value over 1 it makes sense? *********** check!\n",
            "\n",
            " Check this values: [{'Item_MRP_max': 266.8884}, {'Item_Outlet_Sales_max': 13086.9648}]\n",
            "\n",
            " Non mumeric columns to check:  ['Item_Identifier', 'Item_Fat_Content', 'Item_Type', 'Outlet_Identifier', 'Outlet_Size', 'Outlet_Location_Type', 'Outlet_Type']\n"
          ]
        }
      ]
    },
    {
      "cell_type": "markdown",
      "source": [
        "# **Observaciones:**\n",
        "\n",
        " Hay coherencia con la  información de cada columna. Ahora revisemos las columnas categoricas"
      ],
      "metadata": {
        "id": "iDXV8krrt0ae"
      }
    },
    {
      "cell_type": "code",
      "source": [
        "for column in no_numericos:\n",
        "    print(\"\\n\", column, df[column].unique())"
      ],
      "metadata": {
        "colab": {
          "base_uri": "https://localhost:8080/"
        },
        "id": "jvZQ8rlkJLh1",
        "outputId": "a792a715-8170-4724-b23f-2f4090e712f3"
      },
      "execution_count": 13,
      "outputs": [
        {
          "output_type": "stream",
          "name": "stdout",
          "text": [
            "\n",
            " Item_Identifier ['FDA15' 'DRC01' 'FDN15' ... 'NCF55' 'NCW30' 'NCW05']\n",
            "\n",
            " Item_Fat_Content ['Low Fat' 'Regular' 'low fat' 'LF' 'reg']\n",
            "\n",
            " Item_Type ['Dairy' 'Soft Drinks' 'Meat' 'Fruits and Vegetables' 'Household'\n",
            " 'Baking Goods' 'Snack Foods' 'Frozen Foods' 'Breakfast'\n",
            " 'Health and Hygiene' 'Hard Drinks' 'Canned' 'Breads' 'Starchy Foods'\n",
            " 'Others' 'Seafood']\n",
            "\n",
            " Outlet_Identifier ['OUT049' 'OUT018' 'OUT010' 'OUT013' 'OUT027' 'OUT045' 'OUT017' 'OUT046'\n",
            " 'OUT035' 'OUT019']\n",
            "\n",
            " Outlet_Size ['Medium' nan 'High' 'Small']\n",
            "\n",
            " Outlet_Location_Type ['Tier 1' 'Tier 3' 'Tier 2']\n",
            "\n",
            " Outlet_Type ['Supermarket Type1' 'Supermarket Type2' 'Grocery Store'\n",
            " 'Supermarket Type3']\n"
          ]
        }
      ]
    },
    {
      "cell_type": "markdown",
      "source": [
        "Hay irregularidades en Item_Fat_Content; podemos decir que:\n",
        "\n",
        "LF = Low Fat\n",
        "\n",
        "low fat = Low Fat\n",
        "\n",
        "reg = Regular"
      ],
      "metadata": {
        "id": "C9tdIRNtuMs5"
      }
    },
    {
      "cell_type": "code",
      "source": [
        "df[\"Item_Fat_Content\"].replace([\"LF\",\"reg\",\"low fat\"],[\"Low Fat\", \"Regular\",\"Low Fat\"], inplace=True)\n",
        "df[\"Item_Fat_Content\"].unique()"
      ],
      "metadata": {
        "colab": {
          "base_uri": "https://localhost:8080/"
        },
        "id": "qtmAQ5pP9NEM",
        "outputId": "7d13bf19-bb2a-4e4a-8a85-470e9a214840"
      },
      "execution_count": 14,
      "outputs": [
        {
          "output_type": "execute_result",
          "data": {
            "text/plain": [
              "array(['Low Fat', 'Regular'], dtype=object)"
            ]
          },
          "metadata": {},
          "execution_count": 14
        }
      ]
    },
    {
      "cell_type": "markdown",
      "source": [
        "**Recordemos Que En Nuestra Columna (Outlet_Size) Tenemos Datos Faltantes.**"
      ],
      "metadata": {
        "id": "GwsX5K9WvTf-"
      }
    },
    {
      "cell_type": "code",
      "source": [
        "df[df[\"Outlet_Size\"].isna()].shape"
      ],
      "metadata": {
        "id": "yN8mZabZvNwN",
        "outputId": "5a27ba62-94a2-4d09-d3c8-783de3d5cf6d",
        "colab": {
          "base_uri": "https://localhost:8080/"
        }
      },
      "execution_count": 42,
      "outputs": [
        {
          "output_type": "execute_result",
          "data": {
            "text/plain": [
              "(0, 10)"
            ]
          },
          "metadata": {},
          "execution_count": 42
        }
      ]
    },
    {
      "cell_type": "markdown",
      "source": [
        "\n",
        "son 2410 los valores faltantes en las columna (Outlet_Size).\n",
        "\n",
        "Ahora... ¿Que podriamos hacer?.\n",
        "\n",
        "El tamaño del punto de venta podria ser una característica importante al hacer predicciones de ventas, es una buena idea agrupar la información para encontrar patrones que puedan ser útiles para tomar decisiones sobre la información faltante."
      ],
      "metadata": {
        "id": "ZgC7FgV-vKFP"
      }
    },
    {
      "cell_type": "code",
      "source": [
        "df.groupby([\"Outlet_Type\",\"Outlet_Location_Type\",\"Outlet_Identifier\"])[\"Outlet_Size\"].unique()"
      ],
      "metadata": {
        "colab": {
          "base_uri": "https://localhost:8080/"
        },
        "id": "D2yY0eLQ-RJg",
        "outputId": "892f0f00-e35c-4e2b-e89d-006dfe9fbbff"
      },
      "execution_count": 15,
      "outputs": [
        {
          "output_type": "execute_result",
          "data": {
            "text/plain": [
              "Outlet_Type        Outlet_Location_Type  Outlet_Identifier\n",
              "Grocery Store      Tier 1                OUT019                [Small]\n",
              "                   Tier 3                OUT010                  [nan]\n",
              "Supermarket Type1  Tier 1                OUT046                [Small]\n",
              "                                         OUT049               [Medium]\n",
              "                   Tier 2                OUT017                  [nan]\n",
              "                                         OUT035                [Small]\n",
              "                                         OUT045                  [nan]\n",
              "                   Tier 3                OUT013                 [High]\n",
              "Supermarket Type2  Tier 3                OUT018               [Medium]\n",
              "Supermarket Type3  Tier 3                OUT027               [Medium]\n",
              "Name: Outlet_Size, dtype: object"
            ]
          },
          "metadata": {},
          "execution_count": 15
        }
      ]
    },
    {
      "cell_type": "markdown",
      "source": [
        "vista la estructura de la información en la columna (Outlet_Size), no es posible determinar a qué categoría pertenecen las filas con valores faltantes, por lo que se creará una nueva categoría en la función de tamaño de salida y se reemplazarán los datos faltantes. por la etiqueta \"Missing\"."
      ],
      "metadata": {
        "id": "1Ufgtc2ewpnj"
      }
    },
    {
      "cell_type": "code",
      "source": [
        "df[\"Outlet_Size\"] = df[\"Outlet_Size\"].fillna(\"Missing\")\n",
        "df[\"Outlet_Size\"].isna().sum()"
      ],
      "metadata": {
        "colab": {
          "base_uri": "https://localhost:8080/"
        },
        "id": "BxmI9xUs-Vty",
        "outputId": "1dfa955c-3bff-439e-aa76-a844856a45a7"
      },
      "execution_count": 16,
      "outputs": [
        {
          "output_type": "execute_result",
          "data": {
            "text/plain": [
              "0"
            ]
          },
          "metadata": {},
          "execution_count": 16
        }
      ]
    },
    {
      "cell_type": "markdown",
      "source": [
        "# **Validacion De Mis Datos**"
      ],
      "metadata": {
        "id": "NsfrMz0CxALs"
      }
    },
    {
      "cell_type": "code",
      "source": [
        "df.info()"
      ],
      "metadata": {
        "id": "MfKA1NSvxDKx",
        "outputId": "001c381a-859a-4613-ac13-ee5f28ec4445",
        "colab": {
          "base_uri": "https://localhost:8080/"
        }
      },
      "execution_count": 43,
      "outputs": [
        {
          "output_type": "stream",
          "name": "stdout",
          "text": [
            "<class 'pandas.core.frame.DataFrame'>\n",
            "RangeIndex: 8523 entries, 0 to 8522\n",
            "Data columns (total 10 columns):\n",
            " #   Column                Non-Null Count  Dtype  \n",
            "---  ------                --------------  -----  \n",
            " 0   Item_Identifier       8523 non-null   object \n",
            " 1   Item_Fat_Content      8523 non-null   object \n",
            " 2   Item_Visibility       8523 non-null   float64\n",
            " 3   Item_Type             8523 non-null   object \n",
            " 4   Item_MRP              8523 non-null   float64\n",
            " 5   Outlet_Identifier     8523 non-null   object \n",
            " 6   Outlet_Size           8523 non-null   object \n",
            " 7   Outlet_Location_Type  8523 non-null   object \n",
            " 8   Outlet_Type           8523 non-null   object \n",
            " 9   Item_Outlet_Sales     8523 non-null   float64\n",
            "dtypes: float64(3), object(7)\n",
            "memory usage: 666.0+ KB\n"
          ]
        }
      ]
    },
    {
      "cell_type": "markdown",
      "source": [
        "# **Visualización De Datos**\n",
        "\n",
        "Ahora. Comencemos nuestro análisis de los datos examinando el marco de datos usando el método describe."
      ],
      "metadata": {
        "id": "-SuF5pWn0LVt"
      }
    },
    {
      "cell_type": "code",
      "source": [
        "df.describe().round(2)"
      ],
      "metadata": {
        "colab": {
          "base_uri": "https://localhost:8080/",
          "height": 300
        },
        "id": "RF4_cwUp-qcZ",
        "outputId": "326e902f-0ddc-49f4-80cd-07290cafd70e"
      },
      "execution_count": 44,
      "outputs": [
        {
          "output_type": "execute_result",
          "data": {
            "text/plain": [
              "       Item_Visibility  Item_MRP  Item_Outlet_Sales\n",
              "count          8523.00   8523.00            8523.00\n",
              "mean              0.07    140.99            2181.29\n",
              "std               0.05     62.28            1706.50\n",
              "min               0.00     31.29              33.29\n",
              "25%               0.03     93.83             834.25\n",
              "50%               0.05    143.01            1794.33\n",
              "75%               0.09    185.64            3101.30\n",
              "max               0.33    266.89           13086.96"
            ],
            "text/html": [
              "\n",
              "  <div id=\"df-1995e3ee-cdab-4216-9fd1-2bc8ef5530bd\">\n",
              "    <div class=\"colab-df-container\">\n",
              "      <div>\n",
              "<style scoped>\n",
              "    .dataframe tbody tr th:only-of-type {\n",
              "        vertical-align: middle;\n",
              "    }\n",
              "\n",
              "    .dataframe tbody tr th {\n",
              "        vertical-align: top;\n",
              "    }\n",
              "\n",
              "    .dataframe thead th {\n",
              "        text-align: right;\n",
              "    }\n",
              "</style>\n",
              "<table border=\"1\" class=\"dataframe\">\n",
              "  <thead>\n",
              "    <tr style=\"text-align: right;\">\n",
              "      <th></th>\n",
              "      <th>Item_Visibility</th>\n",
              "      <th>Item_MRP</th>\n",
              "      <th>Item_Outlet_Sales</th>\n",
              "    </tr>\n",
              "  </thead>\n",
              "  <tbody>\n",
              "    <tr>\n",
              "      <th>count</th>\n",
              "      <td>8523.00</td>\n",
              "      <td>8523.00</td>\n",
              "      <td>8523.00</td>\n",
              "    </tr>\n",
              "    <tr>\n",
              "      <th>mean</th>\n",
              "      <td>0.07</td>\n",
              "      <td>140.99</td>\n",
              "      <td>2181.29</td>\n",
              "    </tr>\n",
              "    <tr>\n",
              "      <th>std</th>\n",
              "      <td>0.05</td>\n",
              "      <td>62.28</td>\n",
              "      <td>1706.50</td>\n",
              "    </tr>\n",
              "    <tr>\n",
              "      <th>min</th>\n",
              "      <td>0.00</td>\n",
              "      <td>31.29</td>\n",
              "      <td>33.29</td>\n",
              "    </tr>\n",
              "    <tr>\n",
              "      <th>25%</th>\n",
              "      <td>0.03</td>\n",
              "      <td>93.83</td>\n",
              "      <td>834.25</td>\n",
              "    </tr>\n",
              "    <tr>\n",
              "      <th>50%</th>\n",
              "      <td>0.05</td>\n",
              "      <td>143.01</td>\n",
              "      <td>1794.33</td>\n",
              "    </tr>\n",
              "    <tr>\n",
              "      <th>75%</th>\n",
              "      <td>0.09</td>\n",
              "      <td>185.64</td>\n",
              "      <td>3101.30</td>\n",
              "    </tr>\n",
              "    <tr>\n",
              "      <th>max</th>\n",
              "      <td>0.33</td>\n",
              "      <td>266.89</td>\n",
              "      <td>13086.96</td>\n",
              "    </tr>\n",
              "  </tbody>\n",
              "</table>\n",
              "</div>\n",
              "      <button class=\"colab-df-convert\" onclick=\"convertToInteractive('df-1995e3ee-cdab-4216-9fd1-2bc8ef5530bd')\"\n",
              "              title=\"Convert this dataframe to an interactive table.\"\n",
              "              style=\"display:none;\">\n",
              "        \n",
              "  <svg xmlns=\"http://www.w3.org/2000/svg\" height=\"24px\"viewBox=\"0 0 24 24\"\n",
              "       width=\"24px\">\n",
              "    <path d=\"M0 0h24v24H0V0z\" fill=\"none\"/>\n",
              "    <path d=\"M18.56 5.44l.94 2.06.94-2.06 2.06-.94-2.06-.94-.94-2.06-.94 2.06-2.06.94zm-11 1L8.5 8.5l.94-2.06 2.06-.94-2.06-.94L8.5 2.5l-.94 2.06-2.06.94zm10 10l.94 2.06.94-2.06 2.06-.94-2.06-.94-.94-2.06-.94 2.06-2.06.94z\"/><path d=\"M17.41 7.96l-1.37-1.37c-.4-.4-.92-.59-1.43-.59-.52 0-1.04.2-1.43.59L10.3 9.45l-7.72 7.72c-.78.78-.78 2.05 0 2.83L4 21.41c.39.39.9.59 1.41.59.51 0 1.02-.2 1.41-.59l7.78-7.78 2.81-2.81c.8-.78.8-2.07 0-2.86zM5.41 20L4 18.59l7.72-7.72 1.47 1.35L5.41 20z\"/>\n",
              "  </svg>\n",
              "      </button>\n",
              "      \n",
              "  <style>\n",
              "    .colab-df-container {\n",
              "      display:flex;\n",
              "      flex-wrap:wrap;\n",
              "      gap: 12px;\n",
              "    }\n",
              "\n",
              "    .colab-df-convert {\n",
              "      background-color: #E8F0FE;\n",
              "      border: none;\n",
              "      border-radius: 50%;\n",
              "      cursor: pointer;\n",
              "      display: none;\n",
              "      fill: #1967D2;\n",
              "      height: 32px;\n",
              "      padding: 0 0 0 0;\n",
              "      width: 32px;\n",
              "    }\n",
              "\n",
              "    .colab-df-convert:hover {\n",
              "      background-color: #E2EBFA;\n",
              "      box-shadow: 0px 1px 2px rgba(60, 64, 67, 0.3), 0px 1px 3px 1px rgba(60, 64, 67, 0.15);\n",
              "      fill: #174EA6;\n",
              "    }\n",
              "\n",
              "    [theme=dark] .colab-df-convert {\n",
              "      background-color: #3B4455;\n",
              "      fill: #D2E3FC;\n",
              "    }\n",
              "\n",
              "    [theme=dark] .colab-df-convert:hover {\n",
              "      background-color: #434B5C;\n",
              "      box-shadow: 0px 1px 3px 1px rgba(0, 0, 0, 0.15);\n",
              "      filter: drop-shadow(0px 1px 2px rgba(0, 0, 0, 0.3));\n",
              "      fill: #FFFFFF;\n",
              "    }\n",
              "  </style>\n",
              "\n",
              "      <script>\n",
              "        const buttonEl =\n",
              "          document.querySelector('#df-1995e3ee-cdab-4216-9fd1-2bc8ef5530bd button.colab-df-convert');\n",
              "        buttonEl.style.display =\n",
              "          google.colab.kernel.accessAllowed ? 'block' : 'none';\n",
              "\n",
              "        async function convertToInteractive(key) {\n",
              "          const element = document.querySelector('#df-1995e3ee-cdab-4216-9fd1-2bc8ef5530bd');\n",
              "          const dataTable =\n",
              "            await google.colab.kernel.invokeFunction('convertToInteractive',\n",
              "                                                     [key], {});\n",
              "          if (!dataTable) return;\n",
              "\n",
              "          const docLinkHtml = 'Like what you see? Visit the ' +\n",
              "            '<a target=\"_blank\" href=https://colab.research.google.com/notebooks/data_table.ipynb>data table notebook</a>'\n",
              "            + ' to learn more about interactive tables.';\n",
              "          element.innerHTML = '';\n",
              "          dataTable['output_type'] = 'display_data';\n",
              "          await google.colab.output.renderOutput(dataTable, element);\n",
              "          const docLink = document.createElement('div');\n",
              "          docLink.innerHTML = docLinkHtml;\n",
              "          element.appendChild(docLink);\n",
              "        }\n",
              "      </script>\n",
              "    </div>\n",
              "  </div>\n",
              "  "
            ]
          },
          "metadata": {},
          "execution_count": 44
        }
      ]
    },
    {
      "cell_type": "markdown",
      "source": [
        "De lo anterior podemos decir que:\n",
        "\n",
        ".Hay un total de 8523 observaciones.\n",
        "\n",
        ".La media en la columna Ventas es 2181,29.\n",
        "\n",
        ".La venta mínima es de 33,29.\n",
        "\n",
        ".El máximo de ventas reportado fue de 13089.96. "
      ],
      "metadata": {
        "id": "BYpHVZds1C8F"
      }
    },
    {
      "cell_type": "markdown",
      "source": [
        "# **Visualizaciones:**\n",
        "\n",
        "Llego el momento de crear histogramas y boxplots para tener una idea clara de la distribución de las ventas."
      ],
      "metadata": {
        "id": "36uFQkVTo0Em"
      }
    },
    {
      "cell_type": "code",
      "source": [
        "sns.pairplot(df)"
      ],
      "metadata": {
        "id": "ICgR_du9pXMN",
        "outputId": "26734dc2-efe9-4a02-feaa-a15b7c459c8e",
        "colab": {
          "base_uri": "https://localhost:8080/",
          "height": 565
        }
      },
      "execution_count": 46,
      "outputs": [
        {
          "output_type": "execute_result",
          "data": {
            "text/plain": [
              "<seaborn.axisgrid.PairGrid at 0x7f8c0b6e3cd0>"
            ]
          },
          "metadata": {},
          "execution_count": 46
        },
        {
          "output_type": "display_data",
          "data": {
            "text/plain": [
              "<Figure size 540x540 with 12 Axes>"
            ],
            "image/png": "[encoded data removed]"
          },
          "metadata": {}
        }
      ]
    },
    {
      "cell_type": "markdown",
      "source": [
        "**Observaciones:**\n",
        "\n",
        "La distribución de las variables estudiadas no es normal, está sesgada a la derecha.\n",
        "\n",
        "La mayoría de los productos tienen un precio entre 100 y 200.\n",
        "\n",
        "La mayoría de los puntos de venta presentan ventas por debajo de los 2500 dólares.\n",
        "\n",
        "La visibilidad de los productos no es normal está por debajo del 20% del área \n",
        "\n",
        "total de exhibición de todos los productos en una tienda.\n",
        "\n",
        "La mayoría de los productos tienen una visibilidad entre 0 y 10%.\n",
        "\n",
        "No existe una correlación evidente entre las variables."
      ],
      "metadata": {
        "id": "BEu-LQ64rTcl"
      }
    },
    {
      "cell_type": "code",
      "source": [
        "sns.boxplot(x='Item_MRP', y='Item_Type', data=df)\n",
        "plt.ylabel(\"Category\", fontsize=14)\n",
        "plt.xlabel(\"Maximum Retail Price\", fontsize=14)\n",
        "plt.show()"
      ],
      "metadata": {
        "id": "FpuoQ-STriRv",
        "outputId": "12f886ee-cb4b-4135-cafa-a7761aca5d86",
        "colab": {
          "base_uri": "https://localhost:8080/",
          "height": 365
        }
      },
      "execution_count": 47,
      "outputs": [
        {
          "output_type": "display_data",
          "data": {
            "text/plain": [
              "<Figure size 576x396 with 1 Axes>"
            ],
            "image/png": "[encoded data removed]"
          },
          "metadata": {}
        }
      ]
    },
    {
      "cell_type": "markdown",
      "source": [
        "**Observaciones:**\n",
        "\n",
        "Las categorías Frutas y verduras, Hogar y Snacks son las más vendidas. Por otro lado, las categorías Desayuno, Otros y Mariscos fueron las menos vendidas."
      ],
      "metadata": {
        "id": "UK4EWdSsrzCx"
      }
    },
    {
      "cell_type": "code",
      "source": [
        "sns.boxplot(x='Item_Visibility', y='Item_Fat_Content', data=df)"
      ],
      "metadata": {
        "colab": {
          "base_uri": "https://localhost:8080/",
          "height": 378
        },
        "id": "Q-cA6JboAidX",
        "outputId": "bff5770f-c5b6-41b2-9869-fb80aefb1682"
      },
      "execution_count": 20,
      "outputs": [
        {
          "output_type": "execute_result",
          "data": {
            "text/plain": [
              "<matplotlib.axes._subplots.AxesSubplot at 0x7f8c118ce6d0>"
            ]
          },
          "metadata": {},
          "execution_count": 20
        },
        {
          "output_type": "display_data",
          "data": {
            "text/plain": [
              "<Figure size 576x396 with 1 Axes>"
            ],
            "image/png": "[encoded data removed]"
          },
          "metadata": {}
        }
      ]
    },
    {
      "cell_type": "markdown",
      "source": [
        "# **Ahora Trabajaremos En La Columna Outlet_Size Y Haremos Un Correlacion.**"
      ],
      "metadata": {
        "id": "qJQ0CRMXufp_"
      }
    },
    {
      "cell_type": "code",
      "source": [
        "df[\"Outlet_Size\"].unique()"
      ],
      "metadata": {
        "colab": {
          "base_uri": "https://localhost:8080/"
        },
        "id": "2zYq2VszHmeP",
        "outputId": "02c6e27a-af4a-43de-d71d-81fa17ee8052"
      },
      "execution_count": 23,
      "outputs": [
        {
          "output_type": "execute_result",
          "data": {
            "text/plain": [
              "array(['Medium', 'Missing', 'High', 'Small'], dtype=object)"
            ]
          },
          "metadata": {},
          "execution_count": 23
        }
      ]
    },
    {
      "cell_type": "code",
      "source": [
        "df[\"Outlet_Location_Type\"].unique()"
      ],
      "metadata": {
        "colab": {
          "base_uri": "https://localhost:8080/"
        },
        "id": "2dLA61_N700X",
        "outputId": "1327162d-156d-4a7a-8926-4abc4cdca46d"
      },
      "execution_count": 24,
      "outputs": [
        {
          "output_type": "execute_result",
          "data": {
            "text/plain": [
              "array(['Tier 1', 'Tier 3', 'Tier 2'], dtype=object)"
            ]
          },
          "metadata": {},
          "execution_count": 24
        }
      ]
    },
    {
      "cell_type": "code",
      "source": [
        "colums_new = df.replace(list(df[\"Outlet_Size\"].unique()), [2, 0, 3, 1])\n",
        "colums_new.replace(list(df[\"Outlet_Location_Type\"].unique()), [1, 2 ,3], inplace=True)\n",
        "colums_new"
      ],
      "metadata": {
        "colab": {
          "base_uri": "https://localhost:8080/",
          "height": 661
        },
        "id": "Ww1gRZGkJMy1",
        "outputId": "714b6572-9319-4e7b-e906-bd2b43c7f817"
      },
      "execution_count": 25,
      "outputs": [
        {
          "output_type": "execute_result",
          "data": {
            "text/plain": [
              "     Item_Identifier Item_Fat_Content  Item_Visibility              Item_Type  \\\n",
              "0              FDA15          Low Fat         0.016047                  Dairy   \n",
              "1              DRC01          Regular         0.019278            Soft Drinks   \n",
              "2              FDN15          Low Fat         0.016760                   Meat   \n",
              "3              FDX07          Regular         0.000000  Fruits and Vegetables   \n",
              "4              NCD19          Low Fat         0.000000              Household   \n",
              "...              ...              ...              ...                    ...   \n",
              "8518           FDF22          Low Fat         0.056783            Snack Foods   \n",
              "8519           FDS36          Regular         0.046982           Baking Goods   \n",
              "8520           NCJ29          Low Fat         0.035186     Health and Hygiene   \n",
              "8521           FDN46          Regular         0.145221            Snack Foods   \n",
              "8522           DRG01          Low Fat         0.044878            Soft Drinks   \n",
              "\n",
              "      Item_MRP Outlet_Identifier  Outlet_Size  Outlet_Location_Type  \\\n",
              "0     249.8092            OUT049            2                     1   \n",
              "1      48.2692            OUT018            2                     2   \n",
              "2     141.6180            OUT049            2                     1   \n",
              "3     182.0950            OUT010            0                     2   \n",
              "4      53.8614            OUT013            3                     2   \n",
              "...        ...               ...          ...                   ...   \n",
              "8518  214.5218            OUT013            3                     2   \n",
              "8519  108.1570            OUT045            0                     3   \n",
              "8520   85.1224            OUT035            1                     3   \n",
              "8521  103.1332            OUT018            2                     2   \n",
              "8522   75.4670            OUT046            1                     1   \n",
              "\n",
              "            Outlet_Type  Item_Outlet_Sales  \n",
              "0     Supermarket Type1          3735.1380  \n",
              "1     Supermarket Type2           443.4228  \n",
              "2     Supermarket Type1          2097.2700  \n",
              "3         Grocery Store           732.3800  \n",
              "4     Supermarket Type1           994.7052  \n",
              "...                 ...                ...  \n",
              "8518  Supermarket Type1          2778.3834  \n",
              "8519  Supermarket Type1           549.2850  \n",
              "8520  Supermarket Type1          1193.1136  \n",
              "8521  Supermarket Type2          1845.5976  \n",
              "8522  Supermarket Type1           765.6700  \n",
              "\n",
              "[8523 rows x 10 columns]"
            ],
            "text/html": [
              "\n",
              "  <div id=\"df-7953b63e-bebd-4840-83ea-186288c28747\">\n",
              "    <div class=\"colab-df-container\">\n",
              "      <div>\n",
              "<style scoped>\n",
              "    .dataframe tbody tr th:only-of-type {\n",
              "        vertical-align: middle;\n",
              "    }\n",
              "\n",
              "    .dataframe tbody tr th {\n",
              "        vertical-align: top;\n",
              "    }\n",
              "\n",
              "    .dataframe thead th {\n",
              "        text-align: right;\n",
              "    }\n",
              "</style>\n",
              "<table border=\"1\" class=\"dataframe\">\n",
              "  <thead>\n",
              "    <tr style=\"text-align: right;\">\n",
              "      <th></th>\n",
              "      <th>Item_Identifier</th>\n",
              "      <th>Item_Fat_Content</th>\n",
              "      <th>Item_Visibility</th>\n",
              "      <th>Item_Type</th>\n",
              "      <th>Item_MRP</th>\n",
              "      <th>Outlet_Identifier</th>\n",
              "      <th>Outlet_Size</th>\n",
              "      <th>Outlet_Location_Type</th>\n",
              "      <th>Outlet_Type</th>\n",
              "      <th>Item_Outlet_Sales</th>\n",
              "    </tr>\n",
              "  </thead>\n",
              "  <tbody>\n",
              "    <tr>\n",
              "      <th>0</th>\n",
              "      <td>FDA15</td>\n",
              "      <td>Low Fat</td>\n",
              "      <td>0.016047</td>\n",
              "      <td>Dairy</td>\n",
              "      <td>249.8092</td>\n",
              "      <td>OUT049</td>\n",
              "      <td>2</td>\n",
              "      <td>1</td>\n",
              "      <td>Supermarket Type1</td>\n",
              "      <td>3735.1380</td>\n",
              "    </tr>\n",
              "    <tr>\n",
              "      <th>1</th>\n",
              "      <td>DRC01</td>\n",
              "      <td>Regular</td>\n",
              "      <td>0.019278</td>\n",
              "      <td>Soft Drinks</td>\n",
              "      <td>48.2692</td>\n",
              "      <td>OUT018</td>\n",
              "      <td>2</td>\n",
              "      <td>2</td>\n",
              "      <td>Supermarket Type2</td>\n",
              "      <td>443.4228</td>\n",
              "    </tr>\n",
              "    <tr>\n",
              "      <th>2</th>\n",
              "      <td>FDN15</td>\n",
              "      <td>Low Fat</td>\n",
              "      <td>0.016760</td>\n",
              "      <td>Meat</td>\n",
              "      <td>141.6180</td>\n",
              "      <td>OUT049</td>\n",
              "      <td>2</td>\n",
              "      <td>1</td>\n",
              "      <td>Supermarket Type1</td>\n",
              "      <td>2097.2700</td>\n",
              "    </tr>\n",
              "    <tr>\n",
              "      <th>3</th>\n",
              "      <td>FDX07</td>\n",
              "      <td>Regular</td>\n",
              "      <td>0.000000</td>\n",
              "      <td>Fruits and Vegetables</td>\n",
              "      <td>182.0950</td>\n",
              "      <td>OUT010</td>\n",
              "      <td>0</td>\n",
              "      <td>2</td>\n",
              "      <td>Grocery Store</td>\n",
              "      <td>732.3800</td>\n",
              "    </tr>\n",
              "    <tr>\n",
              "      <th>4</th>\n",
              "      <td>NCD19</td>\n",
              "      <td>Low Fat</td>\n",
              "      <td>0.000000</td>\n",
              "      <td>Household</td>\n",
              "      <td>53.8614</td>\n",
              "      <td>OUT013</td>\n",
              "      <td>3</td>\n",
              "      <td>2</td>\n",
              "      <td>Supermarket Type1</td>\n",
              "      <td>994.7052</td>\n",
              "    </tr>\n",
              "    <tr>\n",
              "      <th>...</th>\n",
              "      <td>...</td>\n",
              "      <td>...</td>\n",
              "      <td>...</td>\n",
              "      <td>...</td>\n",
              "      <td>...</td>\n",
              "      <td>...</td>\n",
              "      <td>...</td>\n",
              "      <td>...</td>\n",
              "      <td>...</td>\n",
              "      <td>...</td>\n",
              "    </tr>\n",
              "    <tr>\n",
              "      <th>8518</th>\n",
              "      <td>FDF22</td>\n",
              "      <td>Low Fat</td>\n",
              "      <td>0.056783</td>\n",
              "      <td>Snack Foods</td>\n",
              "      <td>214.5218</td>\n",
              "      <td>OUT013</td>\n",
              "      <td>3</td>\n",
              "      <td>2</td>\n",
              "      <td>Supermarket Type1</td>\n",
              "      <td>2778.3834</td>\n",
              "    </tr>\n",
              "    <tr>\n",
              "      <th>8519</th>\n",
              "      <td>FDS36</td>\n",
              "      <td>Regular</td>\n",
              "      <td>0.046982</td>\n",
              "      <td>Baking Goods</td>\n",
              "      <td>108.1570</td>\n",
              "      <td>OUT045</td>\n",
              "      <td>0</td>\n",
              "      <td>3</td>\n",
              "      <td>Supermarket Type1</td>\n",
              "      <td>549.2850</td>\n",
              "    </tr>\n",
              "    <tr>\n",
              "      <th>8520</th>\n",
              "      <td>NCJ29</td>\n",
              "      <td>Low Fat</td>\n",
              "      <td>0.035186</td>\n",
              "      <td>Health and Hygiene</td>\n",
              "      <td>85.1224</td>\n",
              "      <td>OUT035</td>\n",
              "      <td>1</td>\n",
              "      <td>3</td>\n",
              "      <td>Supermarket Type1</td>\n",
              "      <td>1193.1136</td>\n",
              "    </tr>\n",
              "    <tr>\n",
              "      <th>8521</th>\n",
              "      <td>FDN46</td>\n",
              "      <td>Regular</td>\n",
              "      <td>0.145221</td>\n",
              "      <td>Snack Foods</td>\n",
              "      <td>103.1332</td>\n",
              "      <td>OUT018</td>\n",
              "      <td>2</td>\n",
              "      <td>2</td>\n",
              "      <td>Supermarket Type2</td>\n",
              "      <td>1845.5976</td>\n",
              "    </tr>\n",
              "    <tr>\n",
              "      <th>8522</th>\n",
              "      <td>DRG01</td>\n",
              "      <td>Low Fat</td>\n",
              "      <td>0.044878</td>\n",
              "      <td>Soft Drinks</td>\n",
              "      <td>75.4670</td>\n",
              "      <td>OUT046</td>\n",
              "      <td>1</td>\n",
              "      <td>1</td>\n",
              "      <td>Supermarket Type1</td>\n",
              "      <td>765.6700</td>\n",
              "    </tr>\n",
              "  </tbody>\n",
              "</table>\n",
              "<p>8523 rows × 10 columns</p>\n",
              "</div>\n",
              "      <button class=\"colab-df-convert\" onclick=\"convertToInteractive('df-7953b63e-bebd-4840-83ea-186288c28747')\"\n",
              "              title=\"Convert this dataframe to an interactive table.\"\n",
              "              style=\"display:none;\">\n",
              "        \n",
              "  <svg xmlns=\"http://www.w3.org/2000/svg\" height=\"24px\"viewBox=\"0 0 24 24\"\n",
              "       width=\"24px\">\n",
              "    <path d=\"M0 0h24v24H0V0z\" fill=\"none\"/>\n",
              "    <path d=\"M18.56 5.44l.94 2.06.94-2.06 2.06-.94-2.06-.94-.94-2.06-.94 2.06-2.06.94zm-11 1L8.5 8.5l.94-2.06 2.06-.94-2.06-.94L8.5 2.5l-.94 2.06-2.06.94zm10 10l.94 2.06.94-2.06 2.06-.94-2.06-.94-.94-2.06-.94 2.06-2.06.94z\"/><path d=\"M17.41 7.96l-1.37-1.37c-.4-.4-.92-.59-1.43-.59-.52 0-1.04.2-1.43.59L10.3 9.45l-7.72 7.72c-.78.78-.78 2.05 0 2.83L4 21.41c.39.39.9.59 1.41.59.51 0 1.02-.2 1.41-.59l7.78-7.78 2.81-2.81c.8-.78.8-2.07 0-2.86zM5.41 20L4 18.59l7.72-7.72 1.47 1.35L5.41 20z\"/>\n",
              "  </svg>\n",
              "      </button>\n",
              "      \n",
              "  <style>\n",
              "    .colab-df-container {\n",
              "      display:flex;\n",
              "      flex-wrap:wrap;\n",
              "      gap: 12px;\n",
              "    }\n",
              "\n",
              "    .colab-df-convert {\n",
              "      background-color: #E8F0FE;\n",
              "      border: none;\n",
              "      border-radius: 50%;\n",
              "      cursor: pointer;\n",
              "      display: none;\n",
              "      fill: #1967D2;\n",
              "      height: 32px;\n",
              "      padding: 0 0 0 0;\n",
              "      width: 32px;\n",
              "    }\n",
              "\n",
              "    .colab-df-convert:hover {\n",
              "      background-color: #E2EBFA;\n",
              "      box-shadow: 0px 1px 2px rgba(60, 64, 67, 0.3), 0px 1px 3px 1px rgba(60, 64, 67, 0.15);\n",
              "      fill: #174EA6;\n",
              "    }\n",
              "\n",
              "    [theme=dark] .colab-df-convert {\n",
              "      background-color: #3B4455;\n",
              "      fill: #D2E3FC;\n",
              "    }\n",
              "\n",
              "    [theme=dark] .colab-df-convert:hover {\n",
              "      background-color: #434B5C;\n",
              "      box-shadow: 0px 1px 3px 1px rgba(0, 0, 0, 0.15);\n",
              "      filter: drop-shadow(0px 1px 2px rgba(0, 0, 0, 0.3));\n",
              "      fill: #FFFFFF;\n",
              "    }\n",
              "  </style>\n",
              "\n",
              "      <script>\n",
              "        const buttonEl =\n",
              "          document.querySelector('#df-7953b63e-bebd-4840-83ea-186288c28747 button.colab-df-convert');\n",
              "        buttonEl.style.display =\n",
              "          google.colab.kernel.accessAllowed ? 'block' : 'none';\n",
              "\n",
              "        async function convertToInteractive(key) {\n",
              "          const element = document.querySelector('#df-7953b63e-bebd-4840-83ea-186288c28747');\n",
              "          const dataTable =\n",
              "            await google.colab.kernel.invokeFunction('convertToInteractive',\n",
              "                                                     [key], {});\n",
              "          if (!dataTable) return;\n",
              "\n",
              "          const docLinkHtml = 'Like what you see? Visit the ' +\n",
              "            '<a target=\"_blank\" href=https://colab.research.google.com/notebooks/data_table.ipynb>data table notebook</a>'\n",
              "            + ' to learn more about interactive tables.';\n",
              "          element.innerHTML = '';\n",
              "          dataTable['output_type'] = 'display_data';\n",
              "          await google.colab.output.renderOutput(dataTable, element);\n",
              "          const docLink = document.createElement('div');\n",
              "          docLink.innerHTML = docLinkHtml;\n",
              "          element.appendChild(docLink);\n",
              "        }\n",
              "      </script>\n",
              "    </div>\n",
              "  </div>\n",
              "  "
            ]
          },
          "metadata": {},
          "execution_count": 25
        }
      ]
    },
    {
      "cell_type": "code",
      "source": [
        "corr = colums_new.corr()\n",
        "corr.head()"
      ],
      "metadata": {
        "colab": {
          "base_uri": "https://localhost:8080/",
          "height": 206
        },
        "id": "y3eab6Yu9Ofk",
        "outputId": "017cf760-fbc1-4c74-8c1e-f63e95c4bb39"
      },
      "execution_count": 26,
      "outputs": [
        {
          "output_type": "execute_result",
          "data": {
            "text/plain": [
              "                      Item_Visibility  Item_MRP  Outlet_Size  \\\n",
              "Item_Visibility              1.000000 -0.001315    -0.087796   \n",
              "Item_MRP                    -0.001315  1.000000     0.002473   \n",
              "Outlet_Size                 -0.087796  0.002473     1.000000   \n",
              "Outlet_Location_Type        -0.076912  0.001887    -0.440765   \n",
              "Item_Outlet_Sales           -0.128625  0.567574     0.172477   \n",
              "\n",
              "                      Outlet_Location_Type  Item_Outlet_Sales  \n",
              "Item_Visibility                  -0.076912          -0.128625  \n",
              "Item_MRP                          0.001887           0.567574  \n",
              "Outlet_Size                      -0.440765           0.172477  \n",
              "Outlet_Location_Type              1.000000           0.099404  \n",
              "Item_Outlet_Sales                 0.099404           1.000000  "
            ],
            "text/html": [
              "\n",
              "  <div id=\"df-6f438764-511f-4b6e-a362-910f46b6b24f\">\n",
              "    <div class=\"colab-df-container\">\n",
              "      <div>\n",
              "<style scoped>\n",
              "    .dataframe tbody tr th:only-of-type {\n",
              "        vertical-align: middle;\n",
              "    }\n",
              "\n",
              "    .dataframe tbody tr th {\n",
              "        vertical-align: top;\n",
              "    }\n",
              "\n",
              "    .dataframe thead th {\n",
              "        text-align: right;\n",
              "    }\n",
              "</style>\n",
              "<table border=\"1\" class=\"dataframe\">\n",
              "  <thead>\n",
              "    <tr style=\"text-align: right;\">\n",
              "      <th></th>\n",
              "      <th>Item_Visibility</th>\n",
              "      <th>Item_MRP</th>\n",
              "      <th>Outlet_Size</th>\n",
              "      <th>Outlet_Location_Type</th>\n",
              "      <th>Item_Outlet_Sales</th>\n",
              "    </tr>\n",
              "  </thead>\n",
              "  <tbody>\n",
              "    <tr>\n",
              "      <th>Item_Visibility</th>\n",
              "      <td>1.000000</td>\n",
              "      <td>-0.001315</td>\n",
              "      <td>-0.087796</td>\n",
              "      <td>-0.076912</td>\n",
              "      <td>-0.128625</td>\n",
              "    </tr>\n",
              "    <tr>\n",
              "      <th>Item_MRP</th>\n",
              "      <td>-0.001315</td>\n",
              "      <td>1.000000</td>\n",
              "      <td>0.002473</td>\n",
              "      <td>0.001887</td>\n",
              "      <td>0.567574</td>\n",
              "    </tr>\n",
              "    <tr>\n",
              "      <th>Outlet_Size</th>\n",
              "      <td>-0.087796</td>\n",
              "      <td>0.002473</td>\n",
              "      <td>1.000000</td>\n",
              "      <td>-0.440765</td>\n",
              "      <td>0.172477</td>\n",
              "    </tr>\n",
              "    <tr>\n",
              "      <th>Outlet_Location_Type</th>\n",
              "      <td>-0.076912</td>\n",
              "      <td>0.001887</td>\n",
              "      <td>-0.440765</td>\n",
              "      <td>1.000000</td>\n",
              "      <td>0.099404</td>\n",
              "    </tr>\n",
              "    <tr>\n",
              "      <th>Item_Outlet_Sales</th>\n",
              "      <td>-0.128625</td>\n",
              "      <td>0.567574</td>\n",
              "      <td>0.172477</td>\n",
              "      <td>0.099404</td>\n",
              "      <td>1.000000</td>\n",
              "    </tr>\n",
              "  </tbody>\n",
              "</table>\n",
              "</div>\n",
              "      <button class=\"colab-df-convert\" onclick=\"convertToInteractive('df-6f438764-511f-4b6e-a362-910f46b6b24f')\"\n",
              "              title=\"Convert this dataframe to an interactive table.\"\n",
              "              style=\"display:none;\">\n",
              "        \n",
              "  <svg xmlns=\"http://www.w3.org/2000/svg\" height=\"24px\"viewBox=\"0 0 24 24\"\n",
              "       width=\"24px\">\n",
              "    <path d=\"M0 0h24v24H0V0z\" fill=\"none\"/>\n",
              "    <path d=\"M18.56 5.44l.94 2.06.94-2.06 2.06-.94-2.06-.94-.94-2.06-.94 2.06-2.06.94zm-11 1L8.5 8.5l.94-2.06 2.06-.94-2.06-.94L8.5 2.5l-.94 2.06-2.06.94zm10 10l.94 2.06.94-2.06 2.06-.94-2.06-.94-.94-2.06-.94 2.06-2.06.94z\"/><path d=\"M17.41 7.96l-1.37-1.37c-.4-.4-.92-.59-1.43-.59-.52 0-1.04.2-1.43.59L10.3 9.45l-7.72 7.72c-.78.78-.78 2.05 0 2.83L4 21.41c.39.39.9.59 1.41.59.51 0 1.02-.2 1.41-.59l7.78-7.78 2.81-2.81c.8-.78.8-2.07 0-2.86zM5.41 20L4 18.59l7.72-7.72 1.47 1.35L5.41 20z\"/>\n",
              "  </svg>\n",
              "      </button>\n",
              "      \n",
              "  <style>\n",
              "    .colab-df-container {\n",
              "      display:flex;\n",
              "      flex-wrap:wrap;\n",
              "      gap: 12px;\n",
              "    }\n",
              "\n",
              "    .colab-df-convert {\n",
              "      background-color: #E8F0FE;\n",
              "      border: none;\n",
              "      border-radius: 50%;\n",
              "      cursor: pointer;\n",
              "      display: none;\n",
              "      fill: #1967D2;\n",
              "      height: 32px;\n",
              "      padding: 0 0 0 0;\n",
              "      width: 32px;\n",
              "    }\n",
              "\n",
              "    .colab-df-convert:hover {\n",
              "      background-color: #E2EBFA;\n",
              "      box-shadow: 0px 1px 2px rgba(60, 64, 67, 0.3), 0px 1px 3px 1px rgba(60, 64, 67, 0.15);\n",
              "      fill: #174EA6;\n",
              "    }\n",
              "\n",
              "    [theme=dark] .colab-df-convert {\n",
              "      background-color: #3B4455;\n",
              "      fill: #D2E3FC;\n",
              "    }\n",
              "\n",
              "    [theme=dark] .colab-df-convert:hover {\n",
              "      background-color: #434B5C;\n",
              "      box-shadow: 0px 1px 3px 1px rgba(0, 0, 0, 0.15);\n",
              "      filter: drop-shadow(0px 1px 2px rgba(0, 0, 0, 0.3));\n",
              "      fill: #FFFFFF;\n",
              "    }\n",
              "  </style>\n",
              "\n",
              "      <script>\n",
              "        const buttonEl =\n",
              "          document.querySelector('#df-6f438764-511f-4b6e-a362-910f46b6b24f button.colab-df-convert');\n",
              "        buttonEl.style.display =\n",
              "          google.colab.kernel.accessAllowed ? 'block' : 'none';\n",
              "\n",
              "        async function convertToInteractive(key) {\n",
              "          const element = document.querySelector('#df-6f438764-511f-4b6e-a362-910f46b6b24f');\n",
              "          const dataTable =\n",
              "            await google.colab.kernel.invokeFunction('convertToInteractive',\n",
              "                                                     [key], {});\n",
              "          if (!dataTable) return;\n",
              "\n",
              "          const docLinkHtml = 'Like what you see? Visit the ' +\n",
              "            '<a target=\"_blank\" href=https://colab.research.google.com/notebooks/data_table.ipynb>data table notebook</a>'\n",
              "            + ' to learn more about interactive tables.';\n",
              "          element.innerHTML = '';\n",
              "          dataTable['output_type'] = 'display_data';\n",
              "          await google.colab.output.renderOutput(dataTable, element);\n",
              "          const docLink = document.createElement('div');\n",
              "          docLink.innerHTML = docLinkHtml;\n",
              "          element.appendChild(docLink);\n",
              "        }\n",
              "      </script>\n",
              "    </div>\n",
              "  </div>\n",
              "  "
            ]
          },
          "metadata": {},
          "execution_count": 26
        }
      ]
    },
    {
      "cell_type": "code",
      "source": [
        "sns.heatmap(corr, cmap = \"flare_r\", annot = True)"
      ],
      "metadata": {
        "colab": {
          "base_uri": "https://localhost:8080/",
          "height": 456
        },
        "id": "q6JsW_U-GzjK",
        "outputId": "38219c0c-e63e-43f3-a0ea-eb02d583c8fd"
      },
      "execution_count": 27,
      "outputs": [
        {
          "output_type": "execute_result",
          "data": {
            "text/plain": [
              "<matplotlib.axes._subplots.AxesSubplot at 0x7f8c12325890>"
            ]
          },
          "metadata": {},
          "execution_count": 27
        },
        {
          "output_type": "display_data",
          "data": {
            "text/plain": [
              "<Figure size 576x396 with 2 Axes>"
            ],
            "image/png": "[encoded data removed]"
          },
          "metadata": {}
        }
      ]
    },
    {
      "cell_type": "markdown",
      "source": [
        "Observaciones:\n",
        "\n",
        "*Podriamos hacer distintas correlaciones entre las mismas columnas pero este caso hagamoslo especial, y es que vamos mirar las correlaciones con la columna Item_Outlet_Sales.\n",
        " "
      ],
      "metadata": {
        "id": "4Pg8PYsTvdVr"
      }
    },
    {
      "cell_type": "markdown",
      "source": [
        "\n",
        "# **Dividiamos El Conjunto De Datos**"
      ],
      "metadata": {
        "id": "RNd_4qIRxaMQ"
      }
    },
    {
      "cell_type": "code",
      "source": [
        "X = df.drop(columns=[\"Item_Outlet_Sales\", \"Item_Identifier\"])\n",
        "y = df[\"Item_Outlet_Sales\"]\n",
        "\n",
        "X_train, X_test, y_train, y_test = train_test_split(X, y, random_state=42)\n"
      ],
      "metadata": {
        "id": "sKwk0rDJo9ZK"
      },
      "execution_count": 54,
      "outputs": []
    },
    {
      "cell_type": "code",
      "source": [
        "df.info()"
      ],
      "metadata": {
        "id": "p_tGasQczWL_",
        "outputId": "f469f572-e7a1-461d-a353-06b04ff07bb0",
        "colab": {
          "base_uri": "https://localhost:8080/"
        }
      },
      "execution_count": 55,
      "outputs": [
        {
          "output_type": "stream",
          "name": "stdout",
          "text": [
            "<class 'pandas.core.frame.DataFrame'>\n",
            "RangeIndex: 8523 entries, 0 to 8522\n",
            "Data columns (total 10 columns):\n",
            " #   Column                Non-Null Count  Dtype  \n",
            "---  ------                --------------  -----  \n",
            " 0   Item_Identifier       8523 non-null   object \n",
            " 1   Item_Fat_Content      8523 non-null   object \n",
            " 2   Item_Visibility       8523 non-null   float64\n",
            " 3   Item_Type             8523 non-null   object \n",
            " 4   Item_MRP              8523 non-null   float64\n",
            " 5   Outlet_Identifier     8523 non-null   object \n",
            " 6   Outlet_Size           8523 non-null   object \n",
            " 7   Outlet_Location_Type  8523 non-null   object \n",
            " 8   Outlet_Type           8523 non-null   object \n",
            " 9   Item_Outlet_Sales     8523 non-null   float64\n",
            "dtypes: float64(3), object(7)\n",
            "memory usage: 666.0+ KB\n"
          ]
        }
      ]
    },
    {
      "cell_type": "markdown",
      "source": [
        "Al realizar la exploracion de nuestra data, podemos identificar 3 tipos de caracteristicas asi:\n",
        "\n",
        "NUMERICAS\n",
        "\n",
        "'Item_Weight', 'Item_Fat_Content', 'Item_Visibility', 'Item_MRP', 'Outlet_Establishment_Year'\n",
        "\n",
        "ORDINALES.\n",
        "'Item_Fat_Content'\n",
        "\n",
        "NOMINALES\n",
        "\n",
        "'Item_Identifier', 'Item_Type', 'Outlet_Identifier', 'Outlet_Size', 'Outlet_Location_Type', 'Outlet_Type'\n",
        "\n",
        "Para el proceso de aprendizaje de nuestro modelo sera necesario transformar nuestras caracteristicas nominales y si es el caso ordinales en variables numericas, esto para mayor funcionalidad de nuestro modelo."
      ],
      "metadata": {
        "id": "GPdns70NzX6O"
      }
    },
    {
      "cell_type": "code",
      "source": [
        "ordinal_encoder = OrdinalEncoder()\n",
        "scaler = StandardScaler()\n",
        "ohe = OneHotEncoder(handle_unknown=\"ignore\", sparse=False)"
      ],
      "metadata": {
        "id": "Dk9mgMJspuA5"
      },
      "execution_count": 31,
      "outputs": []
    },
    {
      "cell_type": "markdown",
      "source": [
        "# **Instanciar transformadores**"
      ],
      "metadata": {
        "id": "-ATQJ96gzkM3"
      }
    },
    {
      "cell_type": "code",
      "source": [
        "ordinal_encoder = OrdinalEncoder()\n",
        "scaler = StandardScaler()\n",
        "ohe = OneHotEncoder(handle_unknown=\"ignore\", sparse=False)"
      ],
      "metadata": {
        "id": "bmM3XS-nznZf"
      },
      "execution_count": 56,
      "outputs": []
    },
    {
      "cell_type": "markdown",
      "source": [
        "# **Instanciar Pipelines**"
      ],
      "metadata": {
        "id": "tSREg72QzqJZ"
      }
    },
    {
      "cell_type": "code",
      "source": [
        "num_pipe = make_pipeline(scaler)\n",
        "ord_pipe = make_pipeline(ordinal_encoder)\n",
        "nomi_pipe = make_pipeline(ohe)\n"
      ],
      "metadata": {
        "id": "nQPTe72IpDqU"
      },
      "execution_count": 32,
      "outputs": []
    },
    {
      "cell_type": "code",
      "source": [
        "num_tuple = (num_pipe, ['Item_Visibility', 'Item_MRP'])\n",
        "ord_tuple = (ord_pipe, [\"Item_Fat_Content\", \"Outlet_Size\"])\n",
        "nom_tuple = (nomi_pipe, [\"Item_Type\", \"Outlet_Identifier\", \"Outlet_Location_Type\", \"Outlet_Type\"])"
      ],
      "metadata": {
        "id": "4_gvqbj5w_Ou"
      },
      "execution_count": 33,
      "outputs": []
    },
    {
      "cell_type": "markdown",
      "source": [
        "**Instanciar selectores de columnas**"
      ],
      "metadata": {
        "id": "EpdnRaXY05HI"
      }
    },
    {
      "cell_type": "code",
      "source": [
        "cat_selector = make_column_selector(dtype_include='object')\n",
        "cat_selector"
      ],
      "metadata": {
        "id": "edN_zl2C08V0",
        "outputId": "13aaac56-9e96-4dfe-d6f5-39b313425dd4",
        "colab": {
          "base_uri": "https://localhost:8080/"
        }
      },
      "execution_count": 57,
      "outputs": [
        {
          "output_type": "execute_result",
          "data": {
            "text/plain": [
              "<sklearn.compose._column_transformer.make_column_selector at 0x7f8bfc4ce590>"
            ]
          },
          "metadata": {},
          "execution_count": 57
        }
      ]
    },
    {
      "cell_type": "code",
      "source": [
        "#Nos devuelve una lista con las columnas que coinciden con el patron solicitado, en este caso, las categoricas.\n",
        "cat_selector(X_train)"
      ],
      "metadata": {
        "id": "UUAQ6ZcE1Apq",
        "outputId": "868e8f66-e841-4c55-9b5f-aa4e728949d7",
        "colab": {
          "base_uri": "https://localhost:8080/"
        }
      },
      "execution_count": 58,
      "outputs": [
        {
          "output_type": "execute_result",
          "data": {
            "text/plain": [
              "['Item_Fat_Content',\n",
              " 'Item_Type',\n",
              " 'Outlet_Identifier',\n",
              " 'Outlet_Size',\n",
              " 'Outlet_Location_Type',\n",
              " 'Outlet_Type']"
            ]
          },
          "metadata": {},
          "execution_count": 58
        }
      ]
    },
    {
      "cell_type": "code",
      "source": [
        "num_selector = make_column_selector(dtype_include='number')\n",
        "num_selector"
      ],
      "metadata": {
        "id": "rbuKUj1j1Iu-",
        "outputId": "7e01a461-7423-404d-9154-fdc296f1848b",
        "colab": {
          "base_uri": "https://localhost:8080/"
        }
      },
      "execution_count": 59,
      "outputs": [
        {
          "output_type": "execute_result",
          "data": {
            "text/plain": [
              "<sklearn.compose._column_transformer.make_column_selector at 0x7f8bfe85b450>"
            ]
          },
          "metadata": {},
          "execution_count": 59
        }
      ]
    },
    {
      "cell_type": "code",
      "source": [
        "#Nos devuelve una lista con las columnas que coinciden con el patron solicitado, en este caso, las numericas.\n",
        "num_selector(X_train)"
      ],
      "metadata": {
        "id": "81R-MA2y1Kbe",
        "outputId": "fb3087a2-463d-4571-8abc-a44f13dd460a",
        "colab": {
          "base_uri": "https://localhost:8080/"
        }
      },
      "execution_count": 60,
      "outputs": [
        {
          "output_type": "execute_result",
          "data": {
            "text/plain": [
              "['Item_Visibility', 'Item_MRP']"
            ]
          },
          "metadata": {},
          "execution_count": 60
        }
      ]
    },
    {
      "cell_type": "markdown",
      "source": [
        "# **Instanciar ColumnTransformer**"
      ],
      "metadata": {
        "id": "F97D7K7-z4sd"
      }
    },
    {
      "cell_type": "code",
      "source": [
        "preprocessor = make_column_transformer(num_tuple, ord_tuple, nom_tuple)\n",
        "preprocessor\n",
        "\n"
      ],
      "metadata": {
        "colab": {
          "base_uri": "https://localhost:8080/"
        },
        "id": "SLjTnov8u-bu",
        "outputId": "020e5c5a-8b75-4391-a33c-842a14bab81f"
      },
      "execution_count": 34,
      "outputs": [
        {
          "output_type": "execute_result",
          "data": {
            "text/plain": [
              "ColumnTransformer(transformers=[('pipeline-1',\n",
              "                                 Pipeline(steps=[('standardscaler',\n",
              "                                                  StandardScaler())]),\n",
              "                                 ['Item_Visibility', 'Item_MRP']),\n",
              "                                ('pipeline-2',\n",
              "                                 Pipeline(steps=[('ordinalencoder',\n",
              "                                                  OrdinalEncoder())]),\n",
              "                                 ['Item_Fat_Content', 'Outlet_Size']),\n",
              "                                ('pipeline-3',\n",
              "                                 Pipeline(steps=[('onehotencoder',\n",
              "                                                  OneHotEncoder(handle_unknown='ignore',\n",
              "                                                                sparse=False))]),\n",
              "                                 ['Item_Type', 'Outlet_Identifier',\n",
              "                                  'Outlet_Location_Type', 'Outlet_Type'])])"
            ]
          },
          "metadata": {},
          "execution_count": 34
        }
      ]
    },
    {
      "cell_type": "code",
      "source": [
        "preprocessor.fit(X_train)\n"
      ],
      "metadata": {
        "colab": {
          "base_uri": "https://localhost:8080/"
        },
        "id": "xFpIQU3OvQBM",
        "outputId": "fba92454-f6ae-493b-e2d4-a2a21dc1d7f2"
      },
      "execution_count": 35,
      "outputs": [
        {
          "output_type": "execute_result",
          "data": {
            "text/plain": [
              "ColumnTransformer(transformers=[('pipeline-1',\n",
              "                                 Pipeline(steps=[('standardscaler',\n",
              "                                                  StandardScaler())]),\n",
              "                                 ['Item_Visibility', 'Item_MRP']),\n",
              "                                ('pipeline-2',\n",
              "                                 Pipeline(steps=[('ordinalencoder',\n",
              "                                                  OrdinalEncoder())]),\n",
              "                                 ['Item_Fat_Content', 'Outlet_Size']),\n",
              "                                ('pipeline-3',\n",
              "                                 Pipeline(steps=[('onehotencoder',\n",
              "                                                  OneHotEncoder(handle_unknown='ignore',\n",
              "                                                                sparse=False))]),\n",
              "                                 ['Item_Type', 'Outlet_Identifier',\n",
              "                                  'Outlet_Location_Type', 'Outlet_Type'])])"
            ]
          },
          "metadata": {},
          "execution_count": 35
        }
      ]
    },
    {
      "cell_type": "code",
      "source": [
        "X_train_processed = preprocessor.transform(X_train)\n",
        "X_test_processed = preprocessor.transform(X_test)"
      ],
      "metadata": {
        "id": "6MP6-ldPrMGj"
      },
      "execution_count": 36,
      "outputs": []
    },
    {
      "cell_type": "code",
      "source": [
        "X_train_processed"
      ],
      "metadata": {
        "colab": {
          "base_uri": "https://localhost:8080/"
        },
        "id": "zUYAqOqAuowp",
        "outputId": "cc86ed89-760a-4ff4-cb13-2b6ddc296066"
      },
      "execution_count": 38,
      "outputs": [
        {
          "output_type": "execute_result",
          "data": {
            "text/plain": [
              "array([[-0.71277507,  1.82810922,  0.        , ...,  0.        ,\n",
              "         1.        ,  0.        ],\n",
              "       [-1.29105225,  0.60336888,  1.        , ...,  0.        ,\n",
              "         1.        ,  0.        ],\n",
              "       [ 1.81331864,  0.24454056,  1.        , ...,  1.        ,\n",
              "         0.        ,  0.        ],\n",
              "       ...,\n",
              "       [-0.92052713,  1.52302674,  0.        , ...,  1.        ,\n",
              "         0.        ,  0.        ],\n",
              "       [-0.2277552 , -0.38377708,  0.        , ...,  1.        ,\n",
              "         0.        ,  0.        ],\n",
              "       [-0.95867683, -0.73836105,  0.        , ...,  1.        ,\n",
              "         0.        ,  0.        ]])"
            ]
          },
          "metadata": {},
          "execution_count": 38
        }
      ]
    },
    {
      "cell_type": "markdown",
      "source": [
        "# **Inspencionar Los Resultados.**"
      ],
      "metadata": {
        "id": "zLRr2ur811Af"
      }
    },
    {
      "cell_type": "code",
      "source": [
        "print(np.isnan(X_train_processed).sum().sum(), 'valores faltantes en datos de entrenamiento')\n",
        "print(np.isnan(X_test_processed).sum().sum(), 'valores faltantes en datos de prueba')\n",
        "print('\\n')\n",
        "print('Toda la data en X_train_processed es', X_train_processed.dtype)\n",
        "print('Toda la data en X_test_processed es', X_test_processed.dtype)\n",
        "print('\\n')\n",
        "print('shape de la data es', X_train_processed.shape)\n",
        "print('\\n')\n",
        "X_train_processed"
      ],
      "metadata": {
        "id": "fU9k_I3Y10Nt",
        "outputId": "17a37799-dece-4c80-93d5-7f70b0de04db",
        "colab": {
          "base_uri": "https://localhost:8080/"
        }
      },
      "execution_count": 61,
      "outputs": [
        {
          "output_type": "stream",
          "name": "stdout",
          "text": [
            "0 valores faltantes en datos de entrenamiento\n",
            "0 valores faltantes en datos de prueba\n",
            "\n",
            "\n",
            "Toda la data en X_train_processed es float64\n",
            "Toda la data en X_test_processed es float64\n",
            "\n",
            "\n",
            "shape de la data es (6392, 37)\n",
            "\n",
            "\n"
          ]
        },
        {
          "output_type": "execute_result",
          "data": {
            "text/plain": [
              "array([[-0.71277507,  1.82810922,  0.        , ...,  0.        ,\n",
              "         1.        ,  0.        ],\n",
              "       [-1.29105225,  0.60336888,  1.        , ...,  0.        ,\n",
              "         1.        ,  0.        ],\n",
              "       [ 1.81331864,  0.24454056,  1.        , ...,  1.        ,\n",
              "         0.        ,  0.        ],\n",
              "       ...,\n",
              "       [-0.92052713,  1.52302674,  0.        , ...,  1.        ,\n",
              "         0.        ,  0.        ],\n",
              "       [-0.2277552 , -0.38377708,  0.        , ...,  1.        ,\n",
              "         0.        ,  0.        ],\n",
              "       [-0.95867683, -0.73836105,  0.        , ...,  1.        ,\n",
              "         0.        ,  0.        ]])"
            ]
          },
          "metadata": {},
          "execution_count": 61
        }
      ]
    }
  ]
}